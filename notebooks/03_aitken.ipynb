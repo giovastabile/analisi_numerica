{
 "cells": [
  {
   "cell_type": "markdown",
   "metadata": {},
   "source": []
  },
  {
   "cell_type": "code",
   "execution_count": 30,
   "metadata": {},
   "outputs": [],
   "source": [
    "import numpy as np\n",
    "import matplotlib.pyplot as plt"
   ]
  },
  {
   "cell_type": "code",
   "execution_count": 57,
   "metadata": {},
   "outputs": [],
   "source": [
    "def fixedpoint(fun,phi,x0,tol,nmax):\n",
    "    \"\"\"\n",
    "    The fixedpoint function implements the fixed point algorithm to find the numerical approximation of a fixed point of the function `fun` given an initial approximation `x0`. The iterative algorithm uses the iteration function `phi` and terminates when the stopping criterion specified by the tolerance parameter `tol` is met or when the maximum number of iterations specified by the parameter `nmax` is reached.\n",
    "    \n",
    "    Parameters\n",
    "    ----------\n",
    "    :param fun: the function for which the fixed point is sought.\n",
    "    :param phi: the iteration function.\n",
    "    :param x0: the initial approximation of the fixed point.\n",
    "    :param tol: the stopping criterion based on the tolerance.\n",
    "    :type tol: float\n",
    "    :param nmax: the maximum number of iterations allowed.\n",
    "    :type nmax: int\n",
    "\n",
    "    Returns\n",
    "    -------\n",
    "    xvect: a list containing the fixed point approximations obtained at each iteration.\n",
    "    iter: the actual number of iterations performed.\n",
    "    xdif: a list containing the absolute errors between successive approximations of the fixed point.\n",
    "    fx: a list containing the values of the function fun evaluated at the fixed point approximations.\n",
    "    \"\"\"\n",
    "    err=tol+1\n",
    "    iter=0\n",
    "    fx0=fun(x0)\n",
    "    xdif=[]\n",
    "    xvect=[]\n",
    "    xvect.append(x0)\n",
    "    fx=[]\n",
    "    fx.append(fx0)\n",
    "    while iter<=nmax and err>tol:\n",
    "        x=phi(x0)\n",
    "        err = np.abs(x-x0)\n",
    "        xdif.append(err)\n",
    "        xvect.append(x)\n",
    "        x0=x\n",
    "        fx0=fun(x0)\n",
    "        fx.append(fx0)\n",
    "        iter=iter+1\n",
    "    return xvect, iter, xdif, fx"
   ]
  },
  {
   "cell_type": "code",
   "execution_count": 38,
   "metadata": {},
   "outputs": [],
   "source": [
    "def aitken(fun,phi,x0,tol,nmax):\n",
    "    err=tol+1\n",
    "    iter=0\n",
    "    fx0=fun(x0)\n",
    "    xdif=[]\n",
    "    xvect=[]\n",
    "    xvect.append(x0)\n",
    "    fx=[]\n",
    "    fx.append(fx0)\n",
    "    xero=[]\n",
    "    phix=phi(x0)\n",
    "    while err>=tol and iter <= nmax:\n",
    "        x=phi(x0)\n",
    "        phixx = phi(x)\n",
    "        den=phixx-2*x+x0\n",
    "        if den == 0:\n",
    "            raise('azzeramento del denominatore')\n",
    "            return\n",
    "        xn = (x0*phixx-x**2)/den\n",
    "        xvect.append(xn)\n",
    "        xdif.append(np.abs(xn-x0))\n",
    "        x0=xn\n",
    "        fx0=fun(x0)\n",
    "        fx.append(fx0)\n",
    "        err=np.abs(fx0)\n",
    "        iter=iter+1\n",
    "    return xvect, iter, xdif, fx"
   ]
  },
  {
   "cell_type": "code",
   "execution_count": 45,
   "metadata": {},
   "outputs": [],
   "source": [
    "f = lambda x : (x-1)*np.exp(x)\n",
    "phi0 = lambda x : cmath.log(x*np.exp(x))\n",
    "phi1 = lambda x : (np.exp(x)+x)/(np.exp(x)+1)\n",
    "phi2 = lambda x : (x**2-x+1)/x\n"
   ]
  },
  {
   "cell_type": "code",
   "execution_count": 61,
   "metadata": {},
   "outputs": [
    {
     "name": "stdout",
     "output_type": "stream",
     "text": [
      "5\n",
      "7\n"
     ]
    }
   ],
   "source": [
    "xvect,iter,xdif,err = aitken(f,phi2,2,10e-10,100)\n",
    "xvect_fp,iter_fp,xdif_fp,err_fp = fixedpoint(f,phi2,2,10e-10,100)\n",
    "\n",
    "\n",
    "print(iter)\n",
    "print(iter_fp)\n",
    "\n",
    "\n"
   ]
  }
 ],
 "metadata": {
  "kernelspec": {
   "display_name": "base",
   "language": "python",
   "name": "python3"
  },
  "language_info": {
   "codemirror_mode": {
    "name": "ipython",
    "version": 3
   },
   "file_extension": ".py",
   "mimetype": "text/x-python",
   "name": "python",
   "nbconvert_exporter": "python",
   "pygments_lexer": "ipython3",
   "version": "3.9.7"
  },
  "orig_nbformat": 4,
  "vscode": {
   "interpreter": {
    "hash": "aa060171d12b532a6852e832374167464555761491671ce7e9befdbf4680c229"
   }
  }
 },
 "nbformat": 4,
 "nbformat_minor": 2
}

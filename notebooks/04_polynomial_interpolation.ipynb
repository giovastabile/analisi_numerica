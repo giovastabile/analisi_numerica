{
 "cells": [
  {
   "attachments": {},
   "cell_type": "markdown",
   "metadata": {},
   "source": [
    "## Lagrange interpolation\n",
    "\n",
    "Given $(n+1)$ distinct points $\\{X_i\\}_{i=0}^n$ in the interval $[0,1]$,\n",
    "we define the *Lagrange interpolation* operator $\\mathcal{L}^n$ the operator\n",
    "$$\n",
    "\\mathcal{L}^n : C^0([0,1]) \\mapsto \\mathcal{P}^n\n",
    "$$\n",
    "which satisfies\n",
    "$$\n",
    "(\\mathcal{L}^n f)(X_i) = f(X_i), \\qquad i=0,\\dots,n.\n",
    "$$\n",
    "\n",
    "This operator is used to approximate the infinitely dimensional space $C^0([0,1])$ with a\n",
    "finite dimensional one, $\\mathcal{P}^n$, which is the space of polynomials of order n. \n",
    "\n",
    "Such a space has dimension $n+1$, and can be constructed using linear combinations of \n",
    "$n+1$ linear independent polynomials of order $\\leq n$, for example, the monomials:\n",
    "\n",
    "$$\n",
    "\\mathcal{P}^n = \\text{span}\\{v_i := x^i\\}_{i=0}^{n}\n",
    "$$\n",
    "\n",
    "If we want to construct the Lagrange interpolation of a given function on $n+1$ equispaced points in \n",
    "$[0,1]$, then we are actively looking for an element of $\\mathcal{P}^n$ that coincides with the function\n",
    "at these given points.\n",
    "\n",
    "Given a basis $\\{v_i\\}_{i=0}^n$, any element of $\\mathcal{P}^n$ can be written as a linear combination of \n",
    "the basis, i.e., \n",
    "\n",
    "$$\n",
    "\\forall p \\in \\mathcal{P}^n, \\quad  \\exists! \\{p^i\\}_{i=0}^n  \\quad| \\quad p(x) = \\sum_{i=0}^n p^i v_i(x)\n",
    "$$\n",
    "\n",
    "in what follows, we'll use [Einstein summation convention](https://en.wikipedia.org/wiki/Einstein_notation), and \n",
    "call $p$ a function of $\\mathcal{P}^n$, and $[p]$ the $R^{n+1}$ vector representing its coefficients. \n",
    "\n",
    "If we want to solve the interpolation problem above, then we need to find the coefficients $p^i$ of the \n",
    "polynomial $p$ that interpolates $f$ at the points $X_i$:\n",
    "\n",
    "$$\n",
    "v_j(X_i) p^j = f(X_i), \\qquad \\Longleftrightarrow \\qquad [[V]][p] = [F]\n",
    "$$\n",
    "\n",
    "(Remember Einstein summation convention)\n",
    "\n",
    "This can be written as a linear problem $[V] [p] = [F]$, with system matrix $[V]_{ij} :=  v_j(X_i)$ and right \n",
    "hand side $[F]_i = f(X_i)$."
   ]
  },
  {
   "cell_type": "code",
   "execution_count": 1,
   "metadata": {},
   "outputs": [],
   "source": [
    "import numpy as np\n",
    "import matplotlib.pyplot as plt"
   ]
  },
  {
   "cell_type": "code",
   "execution_count": 2,
   "metadata": {},
   "outputs": [],
   "source": [
    "# Implement a function that \n",
    "def build_lagrangian_basis(q, e):  \n",
    "#TODO\n",
    "  return basis"
   ]
  },
  {
   "cell_type": "code",
   "execution_count": null,
   "metadata": {},
   "outputs": [],
   "source": [
    "# Plot the Computed basis functions in the case\n",
    "e = np.linspace(0, 1, 100)\n",
    "q = np.linspace(0, 1, 4)\n",
    "\n",
    "basis = build_lagrangian_basis(q, e)\n",
    "plt.plot(e, basis)"
   ]
  },
  {
   "cell_type": "code",
   "execution_count": 3,
   "metadata": {},
   "outputs": [],
   "source": [
    "# Define a function that computes the interpolation of a given function f\n",
    "def interpolate(f, q, e):\n",
    "  return f_e"
   ]
  },
  {
   "attachments": {},
   "cell_type": "markdown",
   "metadata": {},
   "source": [
    "Use the functions above to interpolate the function $y = \\sin(2\\pi x)$, plot the results and compute the $L^2$ norm of the error"
   ]
  },
  {
   "cell_type": "code",
   "execution_count": null,
   "metadata": {},
   "outputs": [],
   "source": [
    "def f(x):\n",
    "  return np.sin(2 * np.pi * x)"
   ]
  }
 ],
 "metadata": {
  "kernelspec": {
   "display_name": "base",
   "language": "python",
   "name": "python3"
  },
  "language_info": {
   "codemirror_mode": {
    "name": "ipython",
    "version": 3
   },
   "file_extension": ".py",
   "mimetype": "text/x-python",
   "name": "python",
   "nbconvert_exporter": "python",
   "pygments_lexer": "ipython3",
   "version": "3.9.7"
  },
  "orig_nbformat": 4
 },
 "nbformat": 4,
 "nbformat_minor": 2
}

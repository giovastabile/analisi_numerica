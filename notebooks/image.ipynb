{
 "cells": [
  {
   "cell_type": "code",
   "execution_count": 1,
   "metadata": {},
   "outputs": [
    {
     "name": "stdout",
     "output_type": "stream",
     "text": [
      "Defaulting to user installation because normal site-packages is not writeable\n",
      "Requirement already satisfied: hurry.filesize in /home/giova/.local/lib/python3.10/site-packages (0.9)\n",
      "Requirement already satisfied: setuptools in /usr/lib/python3.10/site-packages (from hurry.filesize) (67.6.1)\n",
      "Requirement already satisfied: platformdirs in /usr/lib/python3.10/site-packages (from setuptools->hurry.filesize) (3.1.1)\n",
      "Requirement already satisfied: jaraco.text in /usr/lib/python3.10/site-packages (from setuptools->hurry.filesize) (3.11.1)\n",
      "Requirement already satisfied: more-itertools in /usr/lib/python3.10/site-packages (from setuptools->hurry.filesize) (9.1.0)\n",
      "Requirement already satisfied: ordered-set in /usr/lib/python3.10/site-packages (from setuptools->hurry.filesize) (4.1.0)\n",
      "Requirement already satisfied: packaging in /usr/lib/python3.10/site-packages (from setuptools->hurry.filesize) (23.0)\n",
      "Requirement already satisfied: tomli in /usr/lib/python3.10/site-packages (from setuptools->hurry.filesize) (2.0.1)\n",
      "Requirement already satisfied: validate-pyproject in /usr/lib/python3.10/site-packages (from setuptools->hurry.filesize) (0.12.2.post1.dev0+g2940279.d20230328)\n",
      "Requirement already satisfied: jaraco.functools in /usr/lib/python3.10/site-packages (from jaraco.text->setuptools->hurry.filesize) (3.6.0)\n",
      "Requirement already satisfied: jaraco.context>=4.1 in /usr/lib/python3.10/site-packages (from jaraco.text->setuptools->hurry.filesize) (4.3.0)\n",
      "Requirement already satisfied: autocommand in /usr/lib/python3.10/site-packages (from jaraco.text->setuptools->hurry.filesize) (2.2.2)\n",
      "Requirement already satisfied: inflect in /usr/lib/python3.10/site-packages (from jaraco.text->setuptools->hurry.filesize) (6.0.2)\n",
      "Requirement already satisfied: fastjsonschema<=3,>=2.16.2 in /usr/lib/python3.10/site-packages (from validate-pyproject->setuptools->hurry.filesize) (2.16.3)\n",
      "Requirement already satisfied: pydantic>=1.9.1 in /usr/lib/python3.10/site-packages (from inflect->jaraco.text->setuptools->hurry.filesize) (1.10.7)\n",
      "Requirement already satisfied: typing-extensions>=4.2.0 in /usr/lib/python3.10/site-packages (from pydantic>=1.9.1->inflect->jaraco.text->setuptools->hurry.filesize) (4.5.0)\n",
      "\n",
      "\u001b[1m[\u001b[0m\u001b[34;49mnotice\u001b[0m\u001b[1;39;49m]\u001b[0m\u001b[39;49m A new release of pip is available: \u001b[0m\u001b[31;49m23.1\u001b[0m\u001b[39;49m -> \u001b[0m\u001b[32;49m23.1.2\u001b[0m\n",
      "\u001b[1m[\u001b[0m\u001b[34;49mnotice\u001b[0m\u001b[1;39;49m]\u001b[0m\u001b[39;49m To update, run: \u001b[0m\u001b[32;49mpip install --upgrade pip\u001b[0m\n"
     ]
    }
   ],
   "source": [
    "!pip install hurry.filesize"
   ]
  },
  {
   "cell_type": "code",
   "execution_count": 2,
   "metadata": {},
   "outputs": [],
   "source": [
    "import numpy as np\n",
    "import matplotlib.pyplot as plt\n",
    "from urllib.request import urlopen\n",
    "from hurry.filesize import size\n",
    "%matplotlib inline"
   ]
  },
  {
   "cell_type": "code",
   "execution_count": 4,
   "metadata": {},
   "outputs": [],
   "source": [
    "def rgb2gray(rgb):\n",
    "    r, g, b = rgb[:,:,0], rgb[:,:,1], rgb[:,:,2]\n",
    "    gray = 0.2989 * r + 0.5870 * g + 0.1140 * b\n",
    "    return gray\n",
    "f = urlopen(\"https://github.com/giovastabile/analisi_numerica/blob/main/notebooks/test.jpg?raw=true\")"
   ]
  },
  {
   "cell_type": "code",
   "execution_count": null,
   "metadata": {},
   "outputs": [],
   "source": [
    "im = plt.imread(f,format=\"jpeg\")\n",
    "im = rgb2gray(im)\n",
    "#w,lamda,v = np.linalg.svd(im)\n",
    "w = np.linalg.eig(im.T@im)\n",
    "print(size(im.nbytes))"
   ]
  },
  {
   "cell_type": "code",
   "execution_count": null,
   "metadata": {},
   "outputs": [],
   "source": [
    "N = 1\n",
    "coeff = (w[:,0:N].T@im).real\n",
    "imapprox = w[:,0:N].real@coeff\n",
    "plt.imshow(imapprox.real,cmap=plt.get_cmap('gray'))\n",
    "print(size(w[:,0:N].nbytes+coeff.nbytes))"
   ]
  },
  {
   "cell_type": "code",
   "execution_count": null,
   "metadata": {},
   "outputs": [],
   "source": [
    "plt.imshow(im,cmap=plt.get_cmap('gray'))"
   ]
  }
 ],
 "metadata": {
  "kernelspec": {
   "display_name": "Python 3",
   "language": "python",
   "name": "python3"
  },
  "language_info": {
   "codemirror_mode": {
    "name": "ipython",
    "version": 3
   },
   "file_extension": ".py",
   "mimetype": "text/x-python",
   "name": "python",
   "nbconvert_exporter": "python",
   "pygments_lexer": "ipython3",
   "version": "3.10.10"
  },
  "orig_nbformat": 4,
  "vscode": {
   "interpreter": {
    "hash": "e7370f93d1d0cde622a1f8e1c04877d8463912d04d973331ad4851f04de6915a"
   }
  }
 },
 "nbformat": 4,
 "nbformat_minor": 2
}

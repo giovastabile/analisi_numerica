{
 "cells": [
  {
   "cell_type": "markdown",
   "metadata": {},
   "source": [
    "# Quadrature methods for numerical integration\n",
    "numerical integration\n",
    "Let $f$ be a real integrable function defined in the interval $[a,b]$. Quadrature methods approximate it's integral \n",
    "\n",
    "$$I(f) = \\int_a^b f(x)dx$$\n",
    "\n",
    "with the integral of an approximation of $f$ here denoted with $f_n$ whose integral is easy to be computed.\n",
    "\n",
    "Therefore the integral approximated integral can be written as:\n",
    "\n",
    "$$I(f)\\approx I(f_n) = \\int_a^b f_n(x)dx$$"
   ]
  },
  {
   "cell_type": "markdown",
   "metadata": {},
   "source": []
  },
  {
   "cell_type": "markdown",
   "metadata": {},
   "source": [
    "### Numerical Integration with Lagrange Interpolation\n",
    "\n",
    "The function $f_n$ needs to be easy to integrate. A natural approach is to select $f_n=\\Pi_n f$ with $\\Pi_n f$ the Lagrange interpolant polynomial of $f$ on $n+1$ nodes $\\{x_i\\}$ with $i=0,\\dots,n$. The approximated integral than becomes:\n",
    "\n",
    "$$I_n(f)=\\sum_{i=0}^n f(x_i) \\int_a^b l_i (x) dx$$\n",
    "\n",
    "where $l_i$ is the lagrange polynomial of grade $n$ relative to the node $x_i$"
   ]
  },
  {
   "cell_type": "markdown",
   "metadata": {},
   "source": [
    "# Exercises\n",
    "\n",
    "### Midpoin Rule\n",
    "\n",
    "Let consider the function $f=sin(x)$. Implement the midpoint rule to compute its integral in the interval $[0,\\pi/2]$\n",
    "\n",
    "$$I_0(f) = (b-a)f\\left(\\frac{a+b}{2}\\right)$$"
   ]
  },
  {
   "cell_type": "code",
   "execution_count": null,
   "metadata": {},
   "outputs": [],
   "source": [
    "import numpy as np\n",
    "import matplotlib.pyplot as plt\n",
    "\n",
    "a = 0\n",
    "b = np.pi/2\n",
    "\n",
    "def f(x):\n",
    "    return np.sin(x)\n",
    "\n",
    "def midpoint(f,a,b):\n",
    "    assert a<b, \"a should be smaller than b\"\n",
    "    I = f((a+b)/2)*(b-a)\n",
    "    return I\n",
    "\n",
    "I = midpoint(f,a,b)"
   ]
  },
  {
   "cell_type": "markdown",
   "metadata": {},
   "source": [
    "Compute the error with respect to the exact interpolation"
   ]
  },
  {
   "cell_type": "code",
   "execution_count": null,
   "metadata": {},
   "outputs": [],
   "source": [
    "I_exact = 1\n",
    "print(np.abs(I-I_exact))"
   ]
  },
  {
   "cell_type": "markdown",
   "metadata": {},
   "source": [
    "Implement a function that computes the same integral using the midpoint composite rule with $M$ quadrature points and compute the behavior of the error changing the number of quadrature points\n",
    "\n",
    "$$I_{0,m}=H\\sum_{k=0}^{m-1} f(x_k)$$\n",
    "\n",
    "with $H$ being the lenght of each interval:\n",
    "\n",
    "$$H = (b-a)/M$$\n",
    "and\n",
    "$$x_k = a+(2k+1)H/2$$ \n",
    "with \n",
    "$$k=0,\\dots,M-1$$"
   ]
  },
  {
   "cell_type": "code",
   "execution_count": null,
   "metadata": {},
   "outputs": [],
   "source": [
    "def midpointComp(f,a,b,n):\n",
    "    assert a<b, \"a should be smaller than b\"\n",
    "    I = 0\n",
    "    H = (b-a)/n\n",
    "    for k in range(n):\n",
    "        x_k = a+(2*k+1)*H/2\n",
    "        I+=H*f(x_k)     \n",
    "    return I"
   ]
  },
  {
   "cell_type": "code",
   "execution_count": null,
   "metadata": {},
   "outputs": [],
   "source": [
    "I = midpointComp(f,0,np.pi/2,3)\n",
    "error = []\n",
    "\n",
    "for i in range(20):\n",
    "    error.append(np.abs(midpointComp(f,a,b,i+1)-I_exact))\n",
    "\n",
    "plt.plot(error)\n",
    "plt.grid()\n",
    "plt.xlabel(\"Number of quadrature points\")\n",
    "plt.ylabel(\"Error\")"
   ]
  },
  {
   "cell_type": "markdown",
   "metadata": {},
   "source": [
    "## Trapeizodal Rule\n",
    "Implement a function that implement the trapeizodal rule and perform the same exercise as before:\n",
    "$$I_1(f) = \\frac{b-a}{2}[f(a)+f(b)]$$\n"
   ]
  },
  {
   "cell_type": "code",
   "execution_count": null,
   "metadata": {},
   "outputs": [],
   "source": [
    "def trapRule(f,a,b):\n",
    "    assert a<b,\"a should be smaller than b\"\n",
    "    I = (b-a)/2*(f(a)+f(b))\n",
    "    return I\n",
    "I = trapRule(f,a,b)"
   ]
  },
  {
   "cell_type": "code",
   "execution_count": null,
   "metadata": {},
   "outputs": [],
   "source": [
    "I_exact = 1\n",
    "print(np.abs(I-I_exact))"
   ]
  },
  {
   "cell_type": "markdown",
   "metadata": {},
   "source": [
    "Implement a function that implements the composite trapeizodal rule with $𝑀$ quadrature points and compute the behavior of the error changing the number of quadrature points:\n",
    "\n",
    "$$I_{1,m}(f) = \\frac{H}{2}\\sum_{k=0}^{M-1}(f(x_k)+f(x_{k+1}))$$\n",
    "\n",
    "with \n",
    "$$x_k = a+kH$$\n",
    "for\n",
    "$$k=0,\\dots,M$$\n",
    "and\n",
    "$$H=(b-a)/M$$\n",
    "\n"
   ]
  },
  {
   "cell_type": "code",
   "execution_count": null,
   "metadata": {},
   "outputs": [],
   "source": [
    "def trapRuleComp(f,a,b,n):\n",
    "    assert a<b,\"a should be smaller than b\"\n",
    "    I = 0\n",
    "    H = (b-a)/n\n",
    "    for k in range(n+1):\n",
    "        x_k = a+k*H\n",
    "        if k == 0 or k == n:\n",
    "            I+=f(x_k)/2\n",
    "        else:\n",
    "            I+=f(x_k)        \n",
    "    return I*H"
   ]
  },
  {
   "cell_type": "code",
   "execution_count": null,
   "metadata": {},
   "outputs": [],
   "source": [
    "I = trapRuleComp(f,a,b,1)\n",
    "print(np.abs(I-I_exact))\n",
    "error = []\n",
    "for i in range(20):\n",
    "    error.append(np.abs(trapRuleComp(f,a,b,i+1)-I_exact))\n",
    "    \n",
    "plt.plot(error)\n",
    "plt.grid()\n",
    "plt.xlabel(\"Number of quadrature points\")\n",
    "plt.ylabel(\"Error\")\n",
    "print(error[-1])\n",
    "                 "
   ]
  },
  {
   "cell_type": "markdown",
   "metadata": {},
   "source": [
    "### Cavalieri-Simpson Rule\n",
    "Do the same exercise with the Cavalieri-Simposon Rule and the composite Cavalieri-Simpson rule:\n",
    "\n",
    "#### Cavalieri-Simpson\n",
    "$$I_2(f) = \\frac{b-a}{6}\\left[f(a)+4f\\left(\\frac{a+b}{2}\\right)+f(b)\\right]$$\n",
    "#### Composite Cavalieri-Simpson\n",
    "$$I_{2,m} = \\frac{H}{6}\\left[f(x_0)+2\\sum_{r=1}^{M-1}f(x_{2r})+4\\sum_{s=1}^{M-1}f(x_{2s+1})+f(x_{2m})\\right]$$\n",
    "\n",
    "with\n",
    "\n",
    "$$x_k = a+kH/2$$\n",
    "\n",
    "for \n",
    "\n",
    "$$k = 0,\\dots,2M$$\n",
    "\n",
    "and \n",
    "\n",
    "$$H=(b-a)/M$$"
   ]
  },
  {
   "cell_type": "code",
   "execution_count": null,
   "metadata": {},
   "outputs": [],
   "source": [
    "def cavalieriSimpson(f,a,b):\n",
    "    assert a<b,\"a should be smaller than b\"\n",
    "    I = (b-a)/6*(f(a)+4*f((a+b)/2)+f(b))\n",
    "    return I"
   ]
  },
  {
   "cell_type": "code",
   "execution_count": null,
   "metadata": {},
   "outputs": [],
   "source": [
    "I = cavalieriSimpson(f,a,b)\n",
    "print(np.abs(I-I_exact))"
   ]
  },
  {
   "cell_type": "code",
   "execution_count": null,
   "metadata": {},
   "outputs": [],
   "source": [
    "def cavalieriSimpsonComp(f,a,b,n):\n",
    "    assert a<b,\"a should be smaller than b\"\n",
    "    indices = np.arange(0,2*n+1)\n",
    "    H = (b-a)/n\n",
    "    x = a + indices*H/2\n",
    "    I = 0\n",
    "    I +=f(x[0])\n",
    "    I +=f(x[-1])\n",
    "    for i in range(n):\n",
    "        I+=2*f(x[2*i])\n",
    "    for i in range(n):\n",
    "        I+=4*f(x[2*i+1])\n",
    "    return I*H/6"
   ]
  },
  {
   "cell_type": "code",
   "execution_count": null,
   "metadata": {},
   "outputs": [],
   "source": [
    "I = cavalieriSimpsonComp(f,a,b,1)\n",
    "print(np.abs(I-I_exact))\n",
    "\n",
    "error = []\n",
    "for i in range(20):\n",
    "    error.append(np.abs(cavalieriSimpsonComp(f,a,b,i+1)-I_exact))\n",
    "    \n",
    "plt.plot(error)\n",
    "plt.grid()\n",
    "plt.xlabel(\"Number of quadrature points\")\n",
    "plt.ylabel(\"Error\")\n",
    "print(error[-1])"
   ]
  },
  {
   "cell_type": "markdown",
   "metadata": {},
   "source": [
    "Compare the errors of the three methods"
   ]
  },
  {
   "cell_type": "code",
   "execution_count": null,
   "metadata": {},
   "outputs": [],
   "source": [
    "error_MP = []\n",
    "error_T = []\n",
    "error_CS = []\n",
    "\n",
    "\n",
    "for i in range(20):\n",
    "    error_MP.append(np.abs(midpointComp(f,a,b,i+1)-I_exact))\n",
    "    error_T.append(np.abs(trapRuleComp(f,a,b,i+1)-I_exact))\n",
    "    error_CS.append(np.abs(cavalieriSimpsonComp(f,a,b,i+1)-I_exact))\n",
    "    \n",
    "plt.plot(error_MP,'rv-',label=\"MidPoint\")\n",
    "plt.plot(error_T,'bo--',label=\"Trap\")\n",
    "plt.plot(error_CS,'g*:',label=\"CS\")\n",
    "plt.grid()\n",
    "plt.xlabel(\"Number of quadrature points\")\n",
    "plt.ylabel(\"Error\")\n",
    "plt.legend()    "
   ]
  },
  {
   "cell_type": "code",
   "execution_count": null,
   "metadata": {},
   "outputs": [],
   "source": [
    "def plotMidpointComp(f,a,b,n,n2):\n",
    "    assert a<b, \"a should be smaller than b\"\n",
    "    H = (b-a)/n\n",
    "    indices = np.arange(n)\n",
    "    x = np.linspace(a,b,n2)\n",
    "    xk = a + (indices*2+1)*H/2\n",
    "    plt.plot(xk,f(xk),\"ro\")\n",
    "    plt.plot(x,f(x))\n",
    "    plt.plot(x,f(x)*0,\"r-\")\n",
    "    for i in range(n):\n",
    "        x2 = [xk[i]-H/2,xk[i]-H/2,xk[i]+H/2,xk[i]+H/2]\n",
    "        y2 = [0,f(xk[i]),f(xk[i]),0]\n",
    "        plt.fill(x2,y2,facecolor='red', alpha=0.5)\n",
    "        plt.plot(x2,y2,\"r-\")"
   ]
  },
  {
   "cell_type": "code",
   "execution_count": null,
   "metadata": {},
   "outputs": [],
   "source": [
    "plotMidpointComp(f,a,b,5,100)"
   ]
  },
  {
   "cell_type": "code",
   "execution_count": null,
   "metadata": {},
   "outputs": [],
   "source": [
    "def plotTrapComp(f,a,b,n,n2):\n",
    "    assert a<b, \"a should be smaller than b\"\n",
    "    indices = np.arange(0,2*n+1)\n",
    "    H = (b-a)/n\n",
    "    indices = np.arange(n+1)\n",
    "    x = np.linspace(a,b,n2)\n",
    "    xk = a + (indices)*H\n",
    "    plt.plot(xk,f(xk),\"ro\")\n",
    "    plt.plot(x,f(x))\n",
    "    plt.plot(x,f(x)*0,\"r-\")\n",
    "    for i in range(n):\n",
    "        x2 = [xk[i],xk[i],xk[i+1],xk[i+1]]\n",
    "        y2 = [0,f(xk[i]),f(xk[i+1]),0]\n",
    "        plt.fill(x2,y2,facecolor='red', alpha=0.5)\n",
    "        plt.plot(x2,y2,\"r-\")"
   ]
  },
  {
   "cell_type": "code",
   "execution_count": null,
   "metadata": {},
   "outputs": [],
   "source": [
    "plotTrapComp(f,a,b,10,100)"
   ]
  },
  {
   "cell_type": "code",
   "execution_count": null,
   "metadata": {},
   "outputs": [],
   "source": [
    "from scipy import interpolate\n",
    "def plotCavalieriSimpsonComp(f,a,b,n,n2,n3):\n",
    "    indices = np.arange(0,2*n+1)\n",
    "    H = (b-a)/n\n",
    "    xk = a + indices*H/2\n",
    "    plt.plot(xk,f(xk),\"ro\")\n",
    "    for i in range(n):\n",
    "        x_i = [xk[2*i],xk[2*i+1],xk[2*i+2]] \n",
    "        y_i = f(x_i)\n",
    "        f_int = interpolate.interp1d(x_i, y_i,kind='quadratic')\n",
    "        x_i_plot = np.linspace(xk[2*i],xk[2*i+2],n3)\n",
    "        y_i_plot = f(x_i_plot)\n",
    "        x_i_plot = np.insert(x_i_plot,0,xk[2*i])\n",
    "        y_i_plot = np.insert(y_i_plot,0,0)\n",
    "        x_i_plot = np.append(x_i_plot,xk[2*i+2])\n",
    "        y_i_plot = np.append(y_i_plot,0)\n",
    "\n",
    "        plt.fill(x_i_plot,y_i_plot,facecolor='red', alpha=0.5)\n",
    "        plt.plot(x_i_plot,y_i_plot,\"r-\")\n",
    "\n",
    "plotCavalieriSimpsonComp(f,a,b,3,100,10)"
   ]
  },
  {
   "cell_type": "code",
   "execution_count": null,
   "metadata": {},
   "outputs": [],
   "source": []
  }
 ],
 "metadata": {
  "kernelspec": {
   "display_name": "Python 3 (ipykernel)",
   "language": "python",
   "name": "python3"
  },
  "language_info": {
   "codemirror_mode": {
    "name": "ipython",
    "version": 3
   },
   "file_extension": ".py",
   "mimetype": "text/x-python",
   "name": "python",
   "nbconvert_exporter": "python",
   "pygments_lexer": "ipython3",
   "version": "3.10.10"
  },
  "vscode": {
   "interpreter": {
    "hash": "aa060171d12b532a6852e832374167464555761491671ce7e9befdbf4680c229"
   }
  }
 },
 "nbformat": 4,
 "nbformat_minor": 2
}

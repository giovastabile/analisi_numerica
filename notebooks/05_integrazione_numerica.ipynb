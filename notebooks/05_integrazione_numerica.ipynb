{
 "cells": [
  {
   "cell_type": "markdown",
   "metadata": {},
   "source": [
    "# Quadrature methods for numerical integration\n",
    "numerical integration\n",
    "Let $f$ be a real integrable function defined in the interval $[a,b]$. Quadrature methods approximate it's integral \n",
    "\n",
    "$$I(f) = \\int_a^b f(x)dx$$\n",
    "\n",
    "with the integral of an approximation of $f$ here denoted with $f_n$ whose integral is easy to be computed.\n",
    "\n",
    "Therefore the integral approximated integral can be written as:\n",
    "\n",
    "$$I(f)\\approx I(f_n) = \\int_a^b f_n(x)dx$$"
   ]
  },
  {
   "cell_type": "markdown",
   "metadata": {},
   "source": []
  },
  {
   "cell_type": "markdown",
   "metadata": {},
   "source": [
    "### Numerical Integration with Lagrange Interpolation\n",
    "\n",
    "The function $f_n$ needs to be easy to integrate. A natural approach is to select $f_n=\\Pi_n f$ with $\\Pi_n f$ the Lagrange interpolant polynomial of $f$ on $n+1$ nodes $\\{x_i\\}$ with $i=0,\\dots,n$. The approximated integral than becomes:\n",
    "\n",
    "$$I_n(f)=\\sum_{i=0}^n f(x_i) \\int_a^b l_i (x) dx$$\n",
    "\n",
    "where $l_i$ is the lagrange polynomial of grade $n$ relative to the node $x_i$"
   ]
  },
  {
   "cell_type": "markdown",
   "metadata": {},
   "source": [
    "# Exercises\n",
    "\n",
    "### Midpoin Rule\n",
    "\n",
    "Let consider the function $f=sin(x)$. Implement the midpoint rule to compute its integral in the interval $[0,\\pi/2]$\n",
    "\n",
    "$$I_0(f) = (b-a)f\\left(\\frac{a+b}{2}\\right)$$"
   ]
  },
  {
   "cell_type": "code",
   "execution_count": null,
   "metadata": {},
   "outputs": [],
   "source": [
    "import numpy as np\n",
    "import matplotlib.pyplot as plt\n",
    "\n",
    "a = 0\n",
    "b = np.pi/2\n",
    "\n",
    "def f(x):\n",
    "    return np.sin(x)\n",
    "\n",
    "def midpoint(f,a,b):\n",
    "    #TODO\n",
    "    return I\n",
    "\n",
    "I = midpoint(f,a,b)"
   ]
  },
  {
   "cell_type": "markdown",
   "metadata": {},
   "source": [
    "Compute the error with respect to the exact interpolation"
   ]
  },
  {
   "cell_type": "code",
   "execution_count": null,
   "metadata": {},
   "outputs": [],
   "source": [
    "#TODO"
   ]
  },
  {
   "cell_type": "markdown",
   "metadata": {},
   "source": [
    "Implement a function that computes the same integral using the midpoint composite rule with $M$ quadrature points and compute the behavior of the error changing the number of quadrature points\n",
    "\n",
    "$$I_{0,m}=H\\sum_{k=0}^{m-1} f(x_k)$$\n",
    "\n",
    "with $H$ being the lenght of each interval:\n",
    "\n",
    "$$H = (b-a)/M$$\n",
    "and\n",
    "$$x_k = a+(2k+1)H/2$$ \n",
    "with \n",
    "$$k=0,\\dots,M-1$$"
   ]
  },
  {
   "cell_type": "code",
   "execution_count": null,
   "metadata": {},
   "outputs": [],
   "source": [
    "def midpointComp(f,a,b,n):\n",
    "    #TODO   \n",
    "    return I"
   ]
  },
  {
   "cell_type": "code",
   "execution_count": null,
   "metadata": {},
   "outputs": [],
   "source": [
    "## Here compute the error changing the number of quadrature points"
   ]
  },
  {
   "cell_type": "markdown",
   "metadata": {},
   "source": [
    "## Trapeizodal Rule\n",
    "Implement a function that implement the trapeizodal rule and perform the same exercise as before:\n",
    "$$I_1(f) = \\frac{b-a}{2}[f(a)+f(b)]$$\n"
   ]
  },
  {
   "cell_type": "code",
   "execution_count": null,
   "metadata": {},
   "outputs": [],
   "source": [
    "def trapRule(f,a,b):\n",
    "    #TODO\n",
    "    return I\n",
    "I = trapRule(f,a,b)"
   ]
  },
  {
   "cell_type": "code",
   "execution_count": null,
   "metadata": {},
   "outputs": [],
   "source": [
    "# Compute the error"
   ]
  },
  {
   "cell_type": "markdown",
   "metadata": {},
   "source": [
    "Implement a function that implements the composite trapeizodal rule with $𝑀$ quadrature points and compute the behavior of the error changing the number of quadrature points:\n",
    "\n",
    "$$I_{1,m}(f) = \\frac{H}{2}\\sum_{k=0}^{M-1}(f(x_k)+f(x_{k+1}))$$\n",
    "\n",
    "with \n",
    "$$x_k = a+kH$$\n",
    "for\n",
    "$$k=0,\\dots,M$$\n",
    "and\n",
    "$$H=(b-a)/M$$\n",
    "\n"
   ]
  },
  {
   "cell_type": "code",
   "execution_count": null,
   "metadata": {},
   "outputs": [],
   "source": [
    "def trapRuleComp(f,a,b,n):\n",
    "    #      \n",
    "    return I"
   ]
  },
  {
   "cell_type": "code",
   "execution_count": null,
   "metadata": {},
   "outputs": [],
   "source": [
    "## Here compute the error changing the number of quadrature points                 "
   ]
  },
  {
   "cell_type": "markdown",
   "metadata": {},
   "source": [
    "### Cavalieri-Simpson Rule\n",
    "Do the same exercise with the Cavalieri-Simposon Rule and the composite Cavalieri-Simpson rule:\n",
    "\n",
    "#### Cavalieri-Simpson\n",
    "$$I_2(f) = \\frac{b-a}{6}\\left[f(a)+4f\\left(\\frac{a+b}{2}\\right)+f(b)\\right]$$\n",
    "#### Composite Cavalieri-Simpson\n",
    "$$I_{2,m} = \\frac{H}{6}\\left[f(x_0)+2\\sum_{r=1}^{M-1}f(x_{2r})+4\\sum_{s=1}^{M-1}f(x_{2s+1})+f(x_{2m})\\right]$$\n",
    "\n",
    "with\n",
    "\n",
    "$$x_k = a+kH/2$$\n",
    "\n",
    "for \n",
    "\n",
    "$$k = 0,\\dots,2M$$\n",
    "\n",
    "and \n",
    "\n",
    "$$H=(b-a)/M$$"
   ]
  },
  {
   "cell_type": "code",
   "execution_count": null,
   "metadata": {},
   "outputs": [],
   "source": [
    "def cavalieriSimpson(f,a,b):\n",
    "    ## TODO\n",
    "    return I"
   ]
  },
  {
   "cell_type": "code",
   "execution_count": null,
   "metadata": {},
   "outputs": [],
   "source": [
    "# Here compute the error"
   ]
  },
  {
   "cell_type": "code",
   "execution_count": null,
   "metadata": {},
   "outputs": [],
   "source": [
    "def cavalieriSimpsonComp(f,a,b,n):\n",
    "    #TODO\n",
    "    return I"
   ]
  },
  {
   "cell_type": "code",
   "execution_count": null,
   "metadata": {},
   "outputs": [],
   "source": [
    "## Here compute the error changing the number of quadrature points"
   ]
  },
  {
   "cell_type": "markdown",
   "metadata": {},
   "source": [
    "Compare the errors of the three methods"
   ]
  },
  {
   "cell_type": "code",
   "execution_count": null,
   "metadata": {},
   "outputs": [],
   "source": [
    "# Here make the plot for the three methods\n"
   ]
  },
  {
   "cell_type": "markdown",
   "metadata": {},
   "source": [
    "Try to see what happens if you change the function you want to integrate with a constant function:\n",
    "\n",
    "$$f = a$$\n",
    "\n",
    "with a linear function\n",
    "\n",
    "$$f = ax+b$$\n",
    "\n",
    "and with a quadratic function:\n",
    "\n",
    "$$f = ax^2+b^x+c$$"
   ]
  },
  {
   "cell_type": "markdown",
   "metadata": {},
   "source": [
    "Do you expect to have exact results for some of the methods?"
   ]
  }
 ],
 "metadata": {
  "kernelspec": {
   "display_name": "Python 3 (ipykernel)",
   "language": "python",
   "name": "python3"
  },
  "language_info": {
   "codemirror_mode": {
    "name": "ipython",
    "version": 3
   },
   "file_extension": ".py",
   "mimetype": "text/x-python",
   "name": "python",
   "nbconvert_exporter": "python",
   "pygments_lexer": "ipython3",
   "version": "3.10.10"
  },
  "vscode": {
   "interpreter": {
    "hash": "aa060171d12b532a6852e832374167464555761491671ce7e9befdbf4680c229"
   }
  }
 },
 "nbformat": 4,
 "nbformat_minor": 2
}
